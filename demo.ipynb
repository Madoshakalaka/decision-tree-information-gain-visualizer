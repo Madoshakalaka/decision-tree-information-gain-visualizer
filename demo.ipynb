{
 "cells": [
  {
   "cell_type": "markdown",
   "source": [
    "Note: I wrote the code below to calculate entropy and information gain.\n",
    "\n",
    "To show my understanding, the code also generates intermediate mathematical calculations\n",
    "\n",
    "First:\n",
    "\n",
    "Class is equally divided as two As and two Bs:\n",
    "\n",
    "    E(Class) = 1"
   ],
   "metadata": {
    "collapsed": false
   }
  },
  {
   "cell_type": "code",
   "execution_count": 2,
   "metadata": {
    "collapsed": true,
    "pycharm": {
     "is_executing": false,
     "name": "#%%\n"
    }
   },
   "outputs": [
    {
     "name": "stdout",
     "text": [
      "G is shorthand for Gain, E is shorthand for Entropy\n\nInformation gain of splitting X:\nG(X)= E(Class) - E(X, Class)\n    = 1 - ( p(X=0)E(0, 1)+ p(X=1)E(2, 1))\n    = 1 - ( 0.75 × 0+ 0.75×(-0.667 × log(0.667) - 0.333 × log(0.333)))\n    = 0.31127812445913283\n\nInformation gain of splitting Y:\nG(Y)= E(Class) - E(Y, Class)\n    = 1 - ( p(Y=0)E(0, 2)+ p(Y=1)E(2, 0))\n    = 1 - ( 0.5 × 0+ 0.5×0)\n    = 1\n\nInformation gain of splitting Z:\nG(Z)= E(Class) - E(Z, Class)\n    = 1 - ( p(Z=0)E(1, 1)+ p(Z=1)E(1, 1))\n    = 1 - ( 0.5 × (-0.5 × log(0.5) - 0.5 × log(0.5))+ 0.5×(-0.5 × log(0.5) - 0.5 × log(0.5)))\n    = 0.0\n\n\n"
     ],
     "output_type": "stream"
    }
   ],
   "source": [
    "import math\n",
    "\n",
    "attribute_values = {'X': [1,1,0,1],\n",
    "                    'Y': [1,1,0,0],\n",
    "                    'Z': [1,0,1,0],\n",
    "                    'Class' : ['A', 'A', 'B', 'B']}\n",
    "\n",
    "print('G is shorthand for Gain, E is shorthand for Entropy\\n')\n",
    "mult = '×'\n",
    "def calc_entropy_gain(attr_name):\n",
    "\n",
    "    \n",
    "    p_e = []\n",
    "    zero_one_indexes = ([i for i, _v in enumerate(attribute_values[attr_name]) if _v == 0],\n",
    "                        [i for i, _v in enumerate(attribute_values[attr_name]) if _v == 1])\n",
    "    p_0 = len(zero_one_indexes[0])/(len(zero_one_indexes[0])+len(zero_one_indexes[1]))\n",
    "    \n",
    "    print(f'Information gain of splitting {attr_name}:')\n",
    "    l = len(f'G({attr_name})')\n",
    "    spaces = \" \"*l\n",
    "    print(f'G({attr_name})= E(Class) - E({attr_name}, Class)')\n",
    "    \n",
    "    \n",
    "    p = [p_0, 1-p_0]\n",
    "    tmp = []\n",
    "    for v in (0, 1):\n",
    "        a_count = 0\n",
    "        b_count = 0\n",
    "        indexes = zero_one_indexes[v]\n",
    "        for i in indexes:\n",
    "            if attribute_values['Class'][i] == 'A':\n",
    "                a_count += 1\n",
    "            else:\n",
    "                b_count += 1\n",
    "        total_count = a_count + b_count\n",
    "        p_a = a_count / total_count\n",
    "        p_b = b_count / total_count\n",
    "        tmp.extend([(a_count, p_a), (b_count, p_b)])\n",
    "        if not all((p_a, p_b)):\n",
    "            p_e.append(0)\n",
    "            \n",
    "        else:\n",
    "            p_e.append(p[v]*(-p_a*math.log(p_a, 2) - p_b*math.log(p_b, 2)))\n",
    "    print(f'{spaces}= 1 - ( p({attr_name}=0)E({tmp[0][0]}, {tmp[1][0]})+ p({attr_name}=1)E({tmp[2][0]}, {tmp[3][0]}))')    \n",
    "    def format_entropy_calc(_p_a, _p_b):\n",
    "        if not all((_p_a, _p_b)):\n",
    "            return '0'\n",
    "        else:\n",
    "            return f'(-{round(_p_a, 3)} {mult} log({round(_p_a,3)}) - {round(_p_b,3)} {mult} log({round(_p_b,3)}))'\n",
    "        \n",
    "    print(f'{spaces}= 1 - ( {p[v]} {mult} {format_entropy_calc(tmp[0][1], tmp[1][1])}+ {p[v]}{mult}{format_entropy_calc(tmp[2][1], tmp[3][1])})')    \n",
    "    g = 1 - sum(p_e)\n",
    "    print(f'{spaces}= {g}\\n')\n",
    "    \n",
    "    return g\n",
    "\n",
    "calc_entropy_gain('X')\n",
    "calc_entropy_gain('Y')\n",
    "calc_entropy_gain('Z')\n",
    "print()\n",
    "\n",
    "\n"
   ]
  }
 ],
 "metadata": {
  "language_info": {
   "codemirror_mode": {
    "name": "ipython",
    "version": 2
   },
   "file_extension": ".py",
   "mimetype": "text/x-python",
   "name": "python",
   "nbconvert_exporter": "python",
   "pygments_lexer": "ipython2",
   "version": "2.7.6"
  },
  "kernelspec": {
   "name": "python3",
   "language": "python",
   "display_name": "Python 3"
  },
  "pycharm": {
   "stem_cell": {
    "cell_type": "raw",
    "source": [],
    "metadata": {
     "collapsed": false
    }
   }
  }
 },
 "nbformat": 4,
 "nbformat_minor": 0
}